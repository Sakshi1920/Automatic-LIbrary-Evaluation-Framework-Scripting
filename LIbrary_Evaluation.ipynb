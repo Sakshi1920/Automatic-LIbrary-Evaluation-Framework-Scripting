{
 "cells": [
  {
   "cell_type": "code",
   "execution_count": 112,
   "id": "c459e9aa-3ceb-4fac-84cb-8d02a0cb1f3a",
   "metadata": {},
   "outputs": [],
   "source": [
    "import os\n",
    "import numpy as np\n",
    "import pandas as pd\n",
    "import matplotlib.pyplot as plt\n",
    "import datetime"
   ]
  },
  {
   "cell_type": "code",
   "execution_count": null,
   "id": "84008ef1-c9b4-461d-936c-51de1e105d58",
   "metadata": {},
   "outputs": [],
   "source": [
    "#Run Vivado"
   ]
  },
  {
   "cell_type": "code",
   "execution_count": 13,
   "id": "0ab00f8a-9185-4b9a-bc10-2c4b3a21dbbb",
   "metadata": {},
   "outputs": [],
   "source": [
    "modules = os.listdir(\"Modules\")"
   ]
  },
  {
   "cell_type": "code",
   "execution_count": 14,
   "id": "b70aa90a-87ba-4c43-9ec4-2abdcf098e3a",
   "metadata": {},
   "outputs": [],
   "source": [
    "#to segragate top modules from all the modules\n",
    "top_modules = [mod for mod in modules if mod [:3]=='top']\n"
   ]
  },
  {
   "cell_type": "code",
   "execution_count": 15,
   "id": "0385d50d-13cb-48d8-be8d-a8fe10ec9a6a",
   "metadata": {},
   "outputs": [
    {
     "data": {
      "text/plain": [
       "['top_CLA8.v', 'top_CLA16.v', 'top_CLA32.v', 'top_CLA64.v']"
      ]
     },
     "execution_count": 15,
     "metadata": {},
     "output_type": "execute_result"
    }
   ],
   "source": [
    "top_modules"
   ]
  },
  {
   "cell_type": "code",
   "execution_count": 26,
   "id": "ab45abf0-309d-4078-ac63-1545a5e35d98",
   "metadata": {},
   "outputs": [
    {
     "data": {
      "text/plain": [
       "0"
      ]
     },
     "execution_count": 26,
     "metadata": {},
     "output_type": "execute_result"
    }
   ],
   "source": [
    "os.system(\"vivado -mode batch -source tcl_add1.tcl\")"
   ]
  },
  {
   "cell_type": "code",
   "execution_count": 22,
   "id": "1c1d182c-cee9-45e0-bca2-95bb8a4f5140",
   "metadata": {},
   "outputs": [],
   "source": [
    "#extra -tclargs is added to take each top module"
   ]
  },
  {
   "cell_type": "code",
   "execution_count": 111,
   "id": "724deccc-43e0-4507-a759-331850561b00",
   "metadata": {},
   "outputs": [
    {
     "ename": "FileExistsError",
     "evalue": "[Errno 17] File exists: 'Impl/top_CLA8'",
     "output_type": "error",
     "traceback": [
      "\u001b[0;31m---------------------------------------------------------------------------\u001b[0m",
      "\u001b[0;31mFileExistsError\u001b[0m                           Traceback (most recent call last)",
      "\u001b[0;32m<ipython-input-111-962d94bf82fe>\u001b[0m in \u001b[0;36m<module>\u001b[0;34m\u001b[0m\n\u001b[1;32m      1\u001b[0m \u001b[0;32mfor\u001b[0m \u001b[0mfilename\u001b[0m \u001b[0;32min\u001b[0m \u001b[0mtop_modules\u001b[0m\u001b[0;34m:\u001b[0m\u001b[0;34m\u001b[0m\u001b[0;34m\u001b[0m\u001b[0m\n\u001b[0;32m----> 2\u001b[0;31m     \u001b[0mos\u001b[0m\u001b[0;34m.\u001b[0m\u001b[0mmkdir\u001b[0m\u001b[0;34m(\u001b[0m\u001b[0;34m\"Impl/\"\u001b[0m\u001b[0;34m+\u001b[0m\u001b[0mfilename\u001b[0m\u001b[0;34m[\u001b[0m\u001b[0;34m:\u001b[0m\u001b[0;34m-\u001b[0m\u001b[0;36m2\u001b[0m\u001b[0;34m]\u001b[0m\u001b[0;34m)\u001b[0m\u001b[0;34m\u001b[0m\u001b[0;34m\u001b[0m\u001b[0m\n\u001b[0m\u001b[1;32m      3\u001b[0m     \u001b[0mos\u001b[0m\u001b[0;34m.\u001b[0m\u001b[0msystem\u001b[0m\u001b[0;34m(\u001b[0m\u001b[0;34m\"vivado -mode batch -source tcl_run.tcl -tclargs {}\"\u001b[0m\u001b[0;34m.\u001b[0m\u001b[0mformat\u001b[0m\u001b[0;34m(\u001b[0m\u001b[0mfilename\u001b[0m\u001b[0;34m)\u001b[0m\u001b[0;34m)\u001b[0m\u001b[0;34m\u001b[0m\u001b[0;34m\u001b[0m\u001b[0m\n",
      "\u001b[0;31mFileExistsError\u001b[0m: [Errno 17] File exists: 'Impl/top_CLA8'"
     ]
    }
   ],
   "source": [
    "for filename in top_modules:\n",
    "    os.mkdir(\"Impl/\"+filename[:-2])\n",
    "    os.system(\"vivado -mode batch -source tcl_run.tcl -tclargs {}\".format(filename))"
   ]
  },
  {
   "cell_type": "code",
   "execution_count": null,
   "id": "358f0d2b-d1f3-4846-9bd5-8be803cc70bf",
   "metadata": {},
   "outputs": [],
   "source": [
    "#ANalyse Metrics"
   ]
  },
  {
   "cell_type": "code",
   "execution_count": 531,
   "id": "d501624d-5519-4776-bdfe-f08e0ad80d6a",
   "metadata": {},
   "outputs": [],
   "source": [
    "designs = os.listdir(\"Impl\")\n",
    "file = ['power.txt','timing.txt','utilization.txt']\n",
    "col = ['Signal Power (w)', 'Logic Power (w)','Static Power (w)','DC Power (w)','Total Power (w)','DataPath Delay','F7_Muxes','LUT_as_Memory','LUT_as_logic','Slice_LUTs','LUT1','LUT2','LUT3','LUT4','LUT5','LUT6','LUT7','LUT_as_Memory','LUT_as_Logic2','Slice_LUTs2','LUTs_difference']\n"
   ]
  },
  {
   "cell_type": "code",
   "execution_count": 333,
   "id": "1ef5dd4d-8372-47d0-95de-c331610289ea",
   "metadata": {},
   "outputs": [],
   "source": [
    "\n",
    "            "
   ]
  },
  {
   "cell_type": "code",
   "execution_count": null,
   "id": "cc826952-179c-4c0c-b9dc-7ab9104c9c65",
   "metadata": {},
   "outputs": [],
   "source": []
  },
  {
   "cell_type": "code",
   "execution_count": null,
   "id": "585c0aa3-3458-42f1-b6d7-6326eb95807e",
   "metadata": {},
   "outputs": [],
   "source": []
  },
  {
   "cell_type": "code",
   "execution_count": null,
   "id": "95fd7c75-48bf-4e71-abe6-10120c8a8c33",
   "metadata": {},
   "outputs": [],
   "source": []
  },
  {
   "cell_type": "code",
   "execution_count": 569,
   "id": "64f694cd-9233-49ea-878f-a46cf087825c",
   "metadata": {},
   "outputs": [
    {
     "name": "stdout",
     "output_type": "stream",
     "text": [
      "2.405\n",
      "2.405\n",
      "| Static Power   |     0.191 |          |           |                 |\n",
      "0.191\n",
      "0.191\n",
      "0.191\n",
      "| Static Power   |     0.256 |          |           |                 |\n",
      "0.256\n",
      "0.256\n",
      "0.256\n",
      "| Static Power   |     0.514 |          |           |                 |\n",
      "0.514\n",
      "0.514\n",
      "0.514\n",
      "| Static Power   |     2.405 |          |           |                 |\n",
      "2.405\n"
     ]
    }
   ],
   "source": [
    "#power lists\n",
    "sigdes=[]\n",
    "slogdes=[]\n",
    "stpdes =[]\n",
    "tonpdes = []\n",
    "dc_power_des =[]\n",
    "#timing lists\n",
    "dpddes = []\n",
    "\n",
    "#utilization lists\n",
    "muxdes =[]\n",
    "lutmdes =[]\n",
    "lutldes =[]\n",
    "sldes = []\n",
    "lut1des=[]\n",
    "lut2des=[]\n",
    "lut3des=[]\n",
    "lut4des=[]\n",
    "lut5des=[]\n",
    "lut6des=[]\n",
    "lut7des=[]\n",
    "lutmdes2=[]\n",
    "LUT_as_Logic2_des=[]\n",
    "#Slice_LUTs2_des=LUT_as_Logic2_des\n",
    "Slice_LUTs2_des=[]\n",
    "LUTs_difference_des=[]\n",
    "\n",
    "\n",
    "\n",
    "for des in designs:\n",
    "    \n",
    "    \n",
    "    var=0\n",
    "    for fl in file:\n",
    "        with open(\"Impl/{}/{}\".format(des,fl)) as f:\n",
    "            lines = f.read()\n",
    "            sp = lines.split(\"\\n\")\n",
    "            \n",
    "            for l in sp:\n",
    "                if fl == \"power.txt\":\n",
    "                    \n",
    "                    if \"Signals\" in l:\n",
    "                        sig=float(l.split()[3])\n",
    "                        sigdes.append(sig)\n",
    "                        print(stp)\n",
    "                    #logic power\n",
    "                    if \"Slice Logic\" in l:\n",
    "                        slog=float(l.split()[4])\n",
    "                        slogdes.append(slog)\n",
    "                    \n",
    "                    \n",
    "                    if \"Static Power\" in l:\n",
    "                        stp =float(l.split()[4])\n",
    "                        stpdes.append(stp)\n",
    "                        print(l)\n",
    "                        print(stp)\n",
    "                    \n",
    "                    if \"Total On-Chip Power\" in l:\n",
    "                        tonp = float(l.split()[6])\n",
    "                        tonpdes.append(tonp)\n",
    "                        dc_power = tonp-stp\n",
    "                        # print(tonp)\n",
    "                        print(stp)\n",
    "                        # print(dc_power)\n",
    "                        dc_power_des.append(dc_power)\n",
    "\n",
    "#                     if (\"Total On-Chip Power\" or \"Static Power\") in l:\n",
    "#                         tonp = float(l.split()[6])\n",
    "#                         tonpdes.append(tonp)\n",
    "#                         stp =float(l.split()[4])\n",
    "#                         stpdes.append(stp)\n",
    "#                         dc_power = tonp - stp\n",
    "#                         dc_power_des.append(dc_power)\n",
    "                            \n",
    "                        \n",
    "                if fl == \"timing.txt\":\n",
    "                    if \"Data Path Delay\" in l:\n",
    "                        #dpd = float(l.split()[3][:-2]) removed 2 to include ns unit\n",
    "                        dpd = l.split()[3]\n",
    "                        \n",
    "                        dpddes.append(dpd)\n",
    "                        \n",
    "                if fl == \"utilization.txt\":\n",
    "                    \n",
    "                \n",
    "                    if \"F7 Muxes\" in l:\n",
    "                        mux= int(l.split()[4])\n",
    "                        muxdes.append(mux)\n",
    "                        \n",
    "                    if \"|   LUT as Memory\" in l:\n",
    "                        lutm = int(l.split()[5])\n",
    "                        lutmdes.append(lutm)\n",
    "                        \n",
    "                    if \"|   LUT as Logic\" in l:\n",
    "                        lutl = int(l.split()[5])\n",
    "                        lutldes.append(lutl)\n",
    "                    \n",
    "                    if \"Slice LUTs\" in l:\n",
    "                        sl = int(l.split()[4])\n",
    "                        sldes.append(sl)\n",
    "                        \n",
    "                    if \"LUT1\"  in l:\n",
    "                        lut1 = int(l.split()[3])\n",
    "                        lut1des.append(lut1)\n",
    "                        var=var+lut1\n",
    "                        #.append(lut1) \n",
    "                        \n",
    "                    if \"LUT2\" in l:\n",
    "                        lut2 = int(l.split()[3])\n",
    "                        lut2des.append(lut2)\n",
    "                        var=var+lut2\n",
    "                        #t.append(lut2)\n",
    "                        \n",
    "                    if \"LUT3\" in l:\n",
    "                        lut3 = int(l.split()[3])\n",
    "                        lut3des.append(lut3)\n",
    "                        var=var+lut3\n",
    "                        #t.append(lut3)\n",
    "                        \n",
    "                    if \"LUT4\" in l:\n",
    "                        lut4 = int(l.split()[3])\n",
    "                        lut4des.append(lut4)\n",
    "                        var=var+lut4\n",
    "                        #t.append(lut4)\n",
    "                        \n",
    "                    if \"LUT5\" in l:\n",
    "                        lut5 = int(l.split()[3])\n",
    "                        lut5des.append(lut5)\n",
    "                        var=var+lut5\n",
    "                        \n",
    "                        #t.append(lut5)\n",
    "                        \n",
    "                    if \"LUT6\" in l:\n",
    "                        lut6 = int(l.split()[3])\n",
    "                        lut6des.append(lut6)\n",
    "                        var=var+lut6\n",
    "                        #t.append(lut6)\n",
    "                        \n",
    "                    if \"LUT7\" in l:\n",
    "                        lut7 = int(l.split()[3])\n",
    "                        lut7des.append(lut7)\n",
    "                        var=var+lut7\n",
    "                        #t.append(lut7)\n",
    "                           \n",
    "                        \n",
    "                    if \"| LUT as Memory\" in l:\n",
    "                         lutm2 = int(l.split()[5])\n",
    "                         lutmdes2.append(lutm2)\n",
    "    LUT_as_Logic2_des.append(var)\n",
    "    \n",
    "    Slice_LUTs2_des.append(var) \n",
    "    \n",
    "    LUTs_difference =  var-sl\n",
    "    LUTs_difference_des.append(LUTs_difference)\n",
    "                    "
   ]
  },
  {
   "cell_type": "code",
   "execution_count": 570,
   "id": "604837cb-a89d-41a2-a7fa-0d9dcec8af04",
   "metadata": {},
   "outputs": [
    {
     "data": {
      "text/plain": [
       "[5.002, 11.141, 23.219, 49.252]"
      ]
     },
     "execution_count": 570,
     "metadata": {},
     "output_type": "execute_result"
    }
   ],
   "source": [
    "tonpdes"
   ]
  },
  {
   "cell_type": "code",
   "execution_count": 566,
   "id": "0659d031-20bf-46e6-ad6a-681881414a0a",
   "metadata": {},
   "outputs": [
    {
     "data": {
      "text/html": [
       "<div>\n",
       "<style scoped>\n",
       "    .dataframe tbody tr th:only-of-type {\n",
       "        vertical-align: middle;\n",
       "    }\n",
       "\n",
       "    .dataframe tbody tr th {\n",
       "        vertical-align: top;\n",
       "    }\n",
       "\n",
       "    .dataframe thead th {\n",
       "        text-align: right;\n",
       "    }\n",
       "</style>\n",
       "<table border=\"1\" class=\"dataframe\">\n",
       "  <thead>\n",
       "    <tr style=\"text-align: right;\">\n",
       "      <th></th>\n",
       "      <th>File Name</th>\n",
       "      <th>Signal Power (w)</th>\n",
       "      <th>Logic Power (w)</th>\n",
       "      <th>Static Power (w)</th>\n",
       "      <th>DC Power (w)</th>\n",
       "      <th>Total Power (w)</th>\n",
       "      <th>DataPath Delay</th>\n",
       "      <th>F7_Muxes</th>\n",
       "      <th>LUT_as_Memory</th>\n",
       "      <th>LUT_as_logic</th>\n",
       "      <th>...</th>\n",
       "      <th>LUT2</th>\n",
       "      <th>LUT3</th>\n",
       "      <th>LUT4</th>\n",
       "      <th>LUT5</th>\n",
       "      <th>LUT6</th>\n",
       "      <th>LUT7</th>\n",
       "      <th>LUT_as_Memory</th>\n",
       "      <th>LUT_as_Logic2</th>\n",
       "      <th>Slice_LUTs2</th>\n",
       "      <th>LUTs_difference</th>\n",
       "    </tr>\n",
       "  </thead>\n",
       "  <tbody>\n",
       "    <tr>\n",
       "      <th>0</th>\n",
       "      <td>top_CLA8</td>\n",
       "      <td>0.17</td>\n",
       "      <td>0.066</td>\n",
       "      <td>0.191</td>\n",
       "      <td>2.597</td>\n",
       "      <td>5.002</td>\n",
       "      <td>6.927ns</td>\n",
       "      <td>0</td>\n",
       "      <td>0</td>\n",
       "      <td>13</td>\n",
       "      <td>...</td>\n",
       "      <td>1</td>\n",
       "      <td>2</td>\n",
       "      <td>3</td>\n",
       "      <td>3</td>\n",
       "      <td>6</td>\n",
       "      <td>0</td>\n",
       "      <td>0</td>\n",
       "      <td>15</td>\n",
       "      <td>15</td>\n",
       "      <td>2</td>\n",
       "    </tr>\n",
       "    <tr>\n",
       "      <th>1</th>\n",
       "      <td>top_CLA16</td>\n",
       "      <td>0.496</td>\n",
       "      <td>0.192</td>\n",
       "      <td>0.256</td>\n",
       "      <td>10.95</td>\n",
       "      <td>11.141</td>\n",
       "      <td>8.335ns</td>\n",
       "      <td>0</td>\n",
       "      <td>0</td>\n",
       "      <td>35</td>\n",
       "      <td>...</td>\n",
       "      <td>6</td>\n",
       "      <td>4</td>\n",
       "      <td>8</td>\n",
       "      <td>5</td>\n",
       "      <td>22</td>\n",
       "      <td>0</td>\n",
       "      <td>0</td>\n",
       "      <td>45</td>\n",
       "      <td>45</td>\n",
       "      <td>10</td>\n",
       "    </tr>\n",
       "    <tr>\n",
       "      <th>2</th>\n",
       "      <td>top_CLA32</td>\n",
       "      <td>1.724</td>\n",
       "      <td>0.507</td>\n",
       "      <td>0.514</td>\n",
       "      <td>22.963</td>\n",
       "      <td>23.219</td>\n",
       "      <td>11.285ns</td>\n",
       "      <td>0</td>\n",
       "      <td>0</td>\n",
       "      <td>97</td>\n",
       "      <td>...</td>\n",
       "      <td>26</td>\n",
       "      <td>9</td>\n",
       "      <td>14</td>\n",
       "      <td>15</td>\n",
       "      <td>59</td>\n",
       "      <td>0</td>\n",
       "      <td>0</td>\n",
       "      <td>123</td>\n",
       "      <td>123</td>\n",
       "      <td>26</td>\n",
       "    </tr>\n",
       "    <tr>\n",
       "      <th>3</th>\n",
       "      <td>top_CLA64</td>\n",
       "      <td>4.872</td>\n",
       "      <td>1.148</td>\n",
       "      <td>2.405</td>\n",
       "      <td>48.738</td>\n",
       "      <td>49.252</td>\n",
       "      <td>16.020ns</td>\n",
       "      <td>0</td>\n",
       "      <td>0</td>\n",
       "      <td>233</td>\n",
       "      <td>...</td>\n",
       "      <td>48</td>\n",
       "      <td>14</td>\n",
       "      <td>25</td>\n",
       "      <td>44</td>\n",
       "      <td>155</td>\n",
       "      <td>0</td>\n",
       "      <td>0</td>\n",
       "      <td>286</td>\n",
       "      <td>286</td>\n",
       "      <td>53</td>\n",
       "    </tr>\n",
       "  </tbody>\n",
       "</table>\n",
       "<p>4 rows × 22 columns</p>\n",
       "</div>"
      ],
      "text/plain": [
       "   File Name Signal Power (w) Logic Power (w) Static Power (w) DC Power (w)  \\\n",
       "0   top_CLA8             0.17           0.066            0.191        2.597   \n",
       "1  top_CLA16            0.496           0.192            0.256        10.95   \n",
       "2  top_CLA32            1.724           0.507            0.514       22.963   \n",
       "3  top_CLA64            4.872           1.148            2.405       48.738   \n",
       "\n",
       "  Total Power (w) DataPath Delay F7_Muxes LUT_as_Memory LUT_as_logic  ...  \\\n",
       "0           5.002        6.927ns        0             0           13  ...   \n",
       "1          11.141        8.335ns        0             0           35  ...   \n",
       "2          23.219       11.285ns        0             0           97  ...   \n",
       "3          49.252       16.020ns        0             0          233  ...   \n",
       "\n",
       "  LUT2 LUT3 LUT4 LUT5 LUT6 LUT7 LUT_as_Memory LUT_as_Logic2 Slice_LUTs2  \\\n",
       "0    1    2    3    3    6    0             0            15          15   \n",
       "1    6    4    8    5   22    0             0            45          45   \n",
       "2   26    9   14   15   59    0             0           123         123   \n",
       "3   48   14   25   44  155    0             0           286         286   \n",
       "\n",
       "  LUTs_difference  \n",
       "0               2  \n",
       "1              10  \n",
       "2              26  \n",
       "3              53  \n",
       "\n",
       "[4 rows x 22 columns]"
      ]
     },
     "execution_count": 566,
     "metadata": {},
     "output_type": "execute_result"
    }
   ],
   "source": [
    "\n",
    "result=[sigdes,slogdes,stpdes,dc_power_des,tonpdes,dpddes,muxdes,lutmdes,lutldes,sldes,lut1des,lut2des,lut3des,lut4des,lut5des,lut6des,lut7des,lutmdes2,LUT_as_Logic2_des,Slice_LUTs2_des,LUTs_difference_des]\n",
    "\n",
    "df=pd.DataFrame(result)\n",
    "#to replace Nan values with 0\n",
    "df=df.fillna(0)\n",
    "df_transpose=df.T\n",
    "df_transpose.columns = col\n",
    "df_transpose.insert(loc =0,column = 'File Name',value = designs)\n",
    "df_transpose.to_csv(\"Result_final1.csv\",index = None)\n",
    "df_transpose"
   ]
  },
  {
   "cell_type": "code",
   "execution_count": null,
   "id": "72965337-0951-4f10-a0db-75f45d3cdb7e",
   "metadata": {},
   "outputs": [],
   "source": []
  },
  {
   "cell_type": "raw",
   "id": "8bd20b3d-ca83-40a8-b346-9568acf830c4",
   "metadata": {},
   "source": []
  },
  {
   "cell_type": "code",
   "execution_count": null,
   "id": "9cf9e8b3-0e9d-455a-baaa-fa1d0968b000",
   "metadata": {},
   "outputs": [],
   "source": []
  },
  {
   "cell_type": "code",
   "execution_count": null,
   "id": "cad8685e-13ef-49d5-ae7c-192ab12e1977",
   "metadata": {},
   "outputs": [],
   "source": []
  },
  {
   "cell_type": "code",
   "execution_count": null,
   "id": "56a1ee55-97f9-4a47-8a44-a9f0121e2bfc",
   "metadata": {},
   "outputs": [],
   "source": []
  },
  {
   "cell_type": "code",
   "execution_count": null,
   "id": "887dc4d5-4204-4c59-a0a3-053b9da6868f",
   "metadata": {},
   "outputs": [],
   "source": []
  },
  {
   "cell_type": "code",
   "execution_count": 118,
   "id": "d6cde580-22f0-4996-9dd3-2de05df162e3",
   "metadata": {},
   "outputs": [],
   "source": []
  },
  {
   "cell_type": "code",
   "execution_count": null,
   "id": "8ebd0cd3-9cd0-47a4-82c6-f1e66c01b85a",
   "metadata": {},
   "outputs": [],
   "source": []
  },
  {
   "cell_type": "code",
   "execution_count": null,
   "id": "3cbfd902-5124-4fd6-bc5d-5cfb732b4fea",
   "metadata": {},
   "outputs": [],
   "source": []
  },
  {
   "cell_type": "code",
   "execution_count": null,
   "id": "a24c29e3-bca8-402e-9f2e-1a771a8267d6",
   "metadata": {},
   "outputs": [],
   "source": []
  },
  {
   "cell_type": "code",
   "execution_count": null,
   "id": "07f34f98-a1dc-4634-b55b-6c252569e394",
   "metadata": {},
   "outputs": [],
   "source": []
  },
  {
   "cell_type": "code",
   "execution_count": 247,
   "id": "fb8714fe-bbe6-4f3f-b16a-474a0e952542",
   "metadata": {},
   "outputs": [],
   "source": []
  },
  {
   "cell_type": "code",
   "execution_count": 248,
   "id": "f6e6fdad-6207-409b-99f3-a0072692b4cc",
   "metadata": {},
   "outputs": [],
   "source": []
  },
  {
   "cell_type": "code",
   "execution_count": 234,
   "id": "c8b18dab-e176-4d0a-afef-eaffd617c672",
   "metadata": {},
   "outputs": [],
   "source": []
  },
  {
   "cell_type": "code",
   "execution_count": null,
   "id": "89f43e0b-9bc7-4554-a1cc-e1669a2e8c83",
   "metadata": {},
   "outputs": [],
   "source": []
  },
  {
   "cell_type": "code",
   "execution_count": 260,
   "id": "1a589601-ab79-4174-87cc-1c790e6e038e",
   "metadata": {},
   "outputs": [],
   "source": []
  },
  {
   "cell_type": "code",
   "execution_count": null,
   "id": "8cba181f-6480-4a5b-b7de-0d6d188c65a5",
   "metadata": {},
   "outputs": [],
   "source": []
  },
  {
   "cell_type": "code",
   "execution_count": null,
   "id": "eafcb8bc-b3ef-44c9-9b34-844b43b4e033",
   "metadata": {},
   "outputs": [],
   "source": []
  },
  {
   "cell_type": "code",
   "execution_count": null,
   "id": "e2ff78c9-ed9a-4c90-b7da-e18e14a5df4e",
   "metadata": {},
   "outputs": [],
   "source": []
  },
  {
   "cell_type": "code",
   "execution_count": null,
   "id": "116b3ad9-6895-4adc-bff9-a387aac3967f",
   "metadata": {},
   "outputs": [],
   "source": []
  },
  {
   "cell_type": "code",
   "execution_count": null,
   "id": "9079c332-f06e-41e0-a53f-f30b584fd265",
   "metadata": {},
   "outputs": [],
   "source": []
  },
  {
   "cell_type": "code",
   "execution_count": null,
   "id": "f5849f14-1527-4c6f-aa9c-d7ba079d2c22",
   "metadata": {},
   "outputs": [],
   "source": []
  },
  {
   "cell_type": "code",
   "execution_count": null,
   "id": "0bc9af59-9186-4295-be90-6a9fb5e07844",
   "metadata": {},
   "outputs": [],
   "source": []
  },
  {
   "cell_type": "code",
   "execution_count": null,
   "id": "90da4629-9881-4450-97e7-cde62e031302",
   "metadata": {},
   "outputs": [],
   "source": []
  },
  {
   "cell_type": "code",
   "execution_count": null,
   "id": "4dde8329-a84d-43fb-9a67-4c704be64af6",
   "metadata": {},
   "outputs": [],
   "source": []
  },
  {
   "cell_type": "code",
   "execution_count": null,
   "id": "d7cf9050-c51f-4936-83b9-25cdb004fdb7",
   "metadata": {},
   "outputs": [],
   "source": []
  },
  {
   "cell_type": "code",
   "execution_count": null,
   "id": "43e4d3ed-db7a-4041-b1a3-2468304c72bb",
   "metadata": {},
   "outputs": [],
   "source": []
  },
  {
   "cell_type": "code",
   "execution_count": null,
   "id": "bf519591-d41c-4422-8b94-499356fcb647",
   "metadata": {},
   "outputs": [],
   "source": []
  },
  {
   "cell_type": "code",
   "execution_count": null,
   "id": "801a732c-0df8-4a0b-a8c2-b382d54e8c94",
   "metadata": {},
   "outputs": [],
   "source": []
  },
  {
   "cell_type": "code",
   "execution_count": 353,
   "id": "dd2beadd-5430-4c5d-8497-8188b2234bf8",
   "metadata": {},
   "outputs": [],
   "source": []
  },
  {
   "cell_type": "code",
   "execution_count": 164,
   "id": "1ac0af5f-a6fa-4464-b77a-1d7a2f2548a5",
   "metadata": {},
   "outputs": [],
   "source": []
  },
  {
   "cell_type": "code",
   "execution_count": 165,
   "id": "f4153135-02d7-4ce1-8715-61c63e6d4af4",
   "metadata": {},
   "outputs": [],
   "source": []
  },
  {
   "cell_type": "code",
   "execution_count": null,
   "id": "1cc022b2-74e2-4202-a0be-07c84576d231",
   "metadata": {},
   "outputs": [],
   "source": []
  },
  {
   "cell_type": "code",
   "execution_count": 177,
   "id": "630570d5-23af-4f3a-b760-9f95fbff3548",
   "metadata": {},
   "outputs": [],
   "source": []
  },
  {
   "cell_type": "code",
   "execution_count": 356,
   "id": "361e43bd-76d4-4581-b90e-bb10d4998d38",
   "metadata": {},
   "outputs": [],
   "source": []
  },
  {
   "cell_type": "code",
   "execution_count": null,
   "id": "9bc634bf-1b2b-419b-b75c-8bcba502ede0",
   "metadata": {},
   "outputs": [],
   "source": []
  },
  {
   "cell_type": "code",
   "execution_count": null,
   "id": "a0591318-b3e4-4a2d-965f-14b8f296a16f",
   "metadata": {},
   "outputs": [],
   "source": []
  },
  {
   "cell_type": "code",
   "execution_count": null,
   "id": "db2aff9b-2873-40cb-9546-f31a5d6b3d02",
   "metadata": {},
   "outputs": [],
   "source": []
  },
  {
   "cell_type": "code",
   "execution_count": 205,
   "id": "634f39b9-5e2d-4b7c-8ba7-07b167257329",
   "metadata": {},
   "outputs": [],
   "source": []
  },
  {
   "cell_type": "code",
   "execution_count": null,
   "id": "7b5cb57b-5991-4a7a-82b4-c0e15642d808",
   "metadata": {},
   "outputs": [],
   "source": []
  },
  {
   "cell_type": "code",
   "execution_count": 207,
   "id": "01e957c0-2b1c-4796-836d-95d84bdc9c19",
   "metadata": {},
   "outputs": [],
   "source": []
  },
  {
   "cell_type": "code",
   "execution_count": null,
   "id": "76ba12fd-4a79-494b-bb72-183eaac7b6ca",
   "metadata": {},
   "outputs": [],
   "source": []
  },
  {
   "cell_type": "code",
   "execution_count": 364,
   "id": "c8d14fd8-b60f-4039-a45c-a2b9efdb497a",
   "metadata": {},
   "outputs": [],
   "source": [
    "\n",
    "                    "
   ]
  },
  {
   "cell_type": "code",
   "execution_count": null,
   "id": "de64dcc6-d952-4202-bc22-ca55d65589e9",
   "metadata": {},
   "outputs": [],
   "source": []
  }
 ],
 "metadata": {
  "kernelspec": {
   "display_name": "Python 3",
   "language": "python",
   "name": "python3"
  },
  "language_info": {
   "codemirror_mode": {
    "name": "ipython",
    "version": 3
   },
   "file_extension": ".py",
   "mimetype": "text/x-python",
   "name": "python",
   "nbconvert_exporter": "python",
   "pygments_lexer": "ipython3",
   "version": "3.6.8"
  }
 },
 "nbformat": 4,
 "nbformat_minor": 5
}
